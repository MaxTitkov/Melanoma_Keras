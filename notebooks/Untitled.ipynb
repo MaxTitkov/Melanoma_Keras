{
 "cells": [
  {
   "cell_type": "code",
   "execution_count": 9,
   "metadata": {
    "collapsed": true
   },
   "outputs": [],
   "source": [
    "import pandas as pd\n",
    "import os\n",
    "import multiprocessing \n",
    "\n",
    "import sklearn\n",
    "from sklearn.preprocessing import MultiLabelBinarizer\n",
    "import numpy as np\n",
    "\n",
    "import matplotlib.pyplot as plt\n",
    "%matplotlib inline"
   ]
  },
  {
   "cell_type": "markdown",
   "metadata": {},
   "source": [
    "## Data preparation"
   ]
  },
  {
   "cell_type": "code",
   "execution_count": 18,
   "metadata": {
    "collapsed": true
   },
   "outputs": [],
   "source": [
    "meta=pd.read_csv('data/ISIC-2017_Training_Data_metadata.csv')\n",
    "labels=pd.read_csv('data/ISIC-2017_Training_Part3_GroundTruth.csv')"
   ]
  },
  {
   "cell_type": "code",
   "execution_count": 19,
   "metadata": {
    "collapsed": false
   },
   "outputs": [
    {
     "data": {
      "text/plain": [
       "Index([u'image_id', u'age_approximate', u'sex'], dtype='object')"
      ]
     },
     "execution_count": 19,
     "metadata": {},
     "output_type": "execute_result"
    }
   ],
   "source": [
    "meta.columns"
   ]
  },
  {
   "cell_type": "code",
   "execution_count": 20,
   "metadata": {
    "collapsed": false
   },
   "outputs": [
    {
     "data": {
      "text/plain": [
       "array(['female', 'male', 'unknown'], dtype=object)"
      ]
     },
     "execution_count": 20,
     "metadata": {},
     "output_type": "execute_result"
    }
   ],
   "source": [
    "meta.sex.unique()"
   ]
  },
  {
   "cell_type": "markdown",
   "metadata": {},
   "source": [
    "Fill na with mean for age and mode for sex"
   ]
  },
  {
   "cell_type": "code",
   "execution_count": 32,
   "metadata": {
    "collapsed": false
   },
   "outputs": [],
   "source": [
    "meta.sex=meta.sex.replace('unknown', None)\n",
    "meta.age_approximate=meta.age_approximate.replace('unknown', None)\n",
    "\n",
    "meta.sex=meta.sex.fillna(meta.sex.mode())\n",
    "meta.age_approximate=meta.age_approximate.fillna(meta.age_approximate.mean())\n",
    "\n",
    "#meta.sex=meta.sex.replace(['female', 'male'], [0,1])\n",
    "meta.sex=meta.sex.astype('float')\n",
    "meta.age_approximate=meta.age_approximate.astype('float')"
   ]
  },
  {
   "cell_type": "code",
   "execution_count": 33,
   "metadata": {
    "collapsed": false
   },
   "outputs": [],
   "source": [
    "dataset=pd.concat((meta, labels[[1,2]]), axis=1)"
   ]
  },
  {
   "cell_type": "code",
   "execution_count": 34,
   "metadata": {
    "collapsed": false
   },
   "outputs": [
    {
     "data": {
      "text/html": [
       "<div>\n",
       "<table border=\"1\" class=\"dataframe\">\n",
       "  <thead>\n",
       "    <tr style=\"text-align: right;\">\n",
       "      <th></th>\n",
       "      <th>image_id</th>\n",
       "      <th>melanoma</th>\n",
       "      <th>seborrheic_keratosis</th>\n",
       "    </tr>\n",
       "  </thead>\n",
       "  <tbody>\n",
       "    <tr>\n",
       "      <th>0</th>\n",
       "      <td>ISIC_0000000</td>\n",
       "      <td>0.0</td>\n",
       "      <td>0.0</td>\n",
       "    </tr>\n",
       "    <tr>\n",
       "      <th>1</th>\n",
       "      <td>ISIC_0000001</td>\n",
       "      <td>0.0</td>\n",
       "      <td>0.0</td>\n",
       "    </tr>\n",
       "    <tr>\n",
       "      <th>2</th>\n",
       "      <td>ISIC_0000002</td>\n",
       "      <td>1.0</td>\n",
       "      <td>0.0</td>\n",
       "    </tr>\n",
       "    <tr>\n",
       "      <th>3</th>\n",
       "      <td>ISIC_0000003</td>\n",
       "      <td>0.0</td>\n",
       "      <td>0.0</td>\n",
       "    </tr>\n",
       "    <tr>\n",
       "      <th>4</th>\n",
       "      <td>ISIC_0000004</td>\n",
       "      <td>1.0</td>\n",
       "      <td>0.0</td>\n",
       "    </tr>\n",
       "  </tbody>\n",
       "</table>\n",
       "</div>"
      ],
      "text/plain": [
       "       image_id  melanoma  seborrheic_keratosis\n",
       "0  ISIC_0000000       0.0                   0.0\n",
       "1  ISIC_0000001       0.0                   0.0\n",
       "2  ISIC_0000002       1.0                   0.0\n",
       "3  ISIC_0000003       0.0                   0.0\n",
       "4  ISIC_0000004       1.0                   0.0"
      ]
     },
     "execution_count": 34,
     "metadata": {},
     "output_type": "execute_result"
    }
   ],
   "source": [
    "labels.head()"
   ]
  },
  {
   "cell_type": "code",
   "execution_count": null,
   "metadata": {
    "collapsed": true
   },
   "outputs": [],
   "source": []
  },
  {
   "cell_type": "code",
   "execution_count": 35,
   "metadata": {
    "collapsed": true
   },
   "outputs": [],
   "source": [
    "def labeler(row):\n",
    "    if row['melanoma'] == 0.0 and row['seborrheic_keratosis']==0.0:\n",
    "        return 2\n",
    "    elif row['melanoma'] == 1.0 and row['seborrheic_keratosis']==0.0:\n",
    "        return 0 \n",
    "    else:\n",
    "        return 1\n",
    "\n",
    "labels['class'] = labels.apply(labeler, axis=1)"
   ]
  },
  {
   "cell_type": "code",
   "execution_count": 36,
   "metadata": {
    "collapsed": false
   },
   "outputs": [
    {
     "data": {
      "text/html": [
       "<div>\n",
       "<table border=\"1\" class=\"dataframe\">\n",
       "  <thead>\n",
       "    <tr style=\"text-align: right;\">\n",
       "      <th></th>\n",
       "      <th>image_id</th>\n",
       "      <th>melanoma</th>\n",
       "      <th>seborrheic_keratosis</th>\n",
       "      <th>class</th>\n",
       "    </tr>\n",
       "  </thead>\n",
       "  <tbody>\n",
       "    <tr>\n",
       "      <th>0</th>\n",
       "      <td>ISIC_0000000</td>\n",
       "      <td>0.0</td>\n",
       "      <td>0.0</td>\n",
       "      <td>2</td>\n",
       "    </tr>\n",
       "    <tr>\n",
       "      <th>1</th>\n",
       "      <td>ISIC_0000001</td>\n",
       "      <td>0.0</td>\n",
       "      <td>0.0</td>\n",
       "      <td>2</td>\n",
       "    </tr>\n",
       "    <tr>\n",
       "      <th>2</th>\n",
       "      <td>ISIC_0000002</td>\n",
       "      <td>1.0</td>\n",
       "      <td>0.0</td>\n",
       "      <td>0</td>\n",
       "    </tr>\n",
       "    <tr>\n",
       "      <th>3</th>\n",
       "      <td>ISIC_0000003</td>\n",
       "      <td>0.0</td>\n",
       "      <td>0.0</td>\n",
       "      <td>2</td>\n",
       "    </tr>\n",
       "    <tr>\n",
       "      <th>4</th>\n",
       "      <td>ISIC_0000004</td>\n",
       "      <td>1.0</td>\n",
       "      <td>0.0</td>\n",
       "      <td>0</td>\n",
       "    </tr>\n",
       "  </tbody>\n",
       "</table>\n",
       "</div>"
      ],
      "text/plain": [
       "       image_id  melanoma  seborrheic_keratosis  class\n",
       "0  ISIC_0000000       0.0                   0.0      2\n",
       "1  ISIC_0000001       0.0                   0.0      2\n",
       "2  ISIC_0000002       1.0                   0.0      0\n",
       "3  ISIC_0000003       0.0                   0.0      2\n",
       "4  ISIC_0000004       1.0                   0.0      0"
      ]
     },
     "execution_count": 36,
     "metadata": {},
     "output_type": "execute_result"
    }
   ],
   "source": [
    "labels.head()"
   ]
  },
  {
   "cell_type": "code",
   "execution_count": 37,
   "metadata": {
    "collapsed": true
   },
   "outputs": [],
   "source": [
    "y=np.array(labels[[3]].values)"
   ]
  },
  {
   "cell_type": "code",
   "execution_count": 38,
   "metadata": {
    "collapsed": false
   },
   "outputs": [],
   "source": [
    "mlb = MultiLabelBinarizer()\n",
    "y_binarized=mlb.fit_transform(y)"
   ]
  },
  {
   "cell_type": "code",
   "execution_count": 39,
   "metadata": {
    "collapsed": false
   },
   "outputs": [
    {
     "data": {
      "text/plain": [
       "array([[0, 0, 1],\n",
       "       [0, 0, 1],\n",
       "       [1, 0, 0],\n",
       "       ..., \n",
       "       [0, 1, 0],\n",
       "       [1, 0, 0],\n",
       "       [0, 1, 0]])"
      ]
     },
     "execution_count": 39,
     "metadata": {},
     "output_type": "execute_result"
    }
   ],
   "source": [
    "y_binarized"
   ]
  },
  {
   "cell_type": "code",
   "execution_count": 40,
   "metadata": {
    "collapsed": false
   },
   "outputs": [],
   "source": [
    "age_sex_labels=np.array(meta[[1,2]])"
   ]
  },
  {
   "cell_type": "code",
   "execution_count": 41,
   "metadata": {
    "collapsed": false
   },
   "outputs": [
    {
     "data": {
      "text/plain": [
       "array([[ 55.,   0.],\n",
       "       [ 30.,   0.],\n",
       "       [ 60.,   0.],\n",
       "       ..., \n",
       "       [ 55.,   0.],\n",
       "       [ 75.,   1.],\n",
       "       [ 70.,   1.]])"
      ]
     },
     "execution_count": 41,
     "metadata": {},
     "output_type": "execute_result"
    }
   ],
   "source": [
    "age_sex_labels"
   ]
  },
  {
   "cell_type": "markdown",
   "metadata": {},
   "source": [
    "## Images preparation"
   ]
  },
  {
   "cell_type": "code",
   "execution_count": 45,
   "metadata": {
    "collapsed": false
   },
   "outputs": [],
   "source": [
    "def images_preprocess(directory='data/ISIC-2017_Training_Data/', savedir='data/melanoma_preprocessed/'):\n",
    "    \n",
    "    Melanoma_cnt=0\n",
    "    Seborreic_ceratosis_cnt=0\n",
    "    Nevus_cnt=0\n",
    "    \n",
    "    if not os.path.exists(savedir):  \n",
    "        os.makedirs(savedir+'0_Melanoma/'),\n",
    "        os.makedirs(savedir+'1_Seborreic_ceratosis/'),\n",
    "        os.makedirs(savedir+'2_Nevus/')\n",
    "    \n",
    "    for img, im_class in labels[[0,3]].values:\n",
    "        \n",
    "        if im_class==0:\n",
    "            for subdir, _, files in os.walk('data/ISIC-2017_Training_Data/'):\n",
    "                subdir=subdir.replace('\\\\','/')\n",
    "                subdir_split=subdir.split('/')\n",
    "                if str('superpixels') not in files:\n",
    "                    image_path=str(subdir+'/'+str(img)+'.jpg')\n",
    "                    image=plt.imread(image_path)\n",
    "                    plt.imsave((savedir+'0_Melanoma/'+str(img)+'.jpg'),image)\n",
    "                    \n",
    "                    Melanoma_cnt+=1\n",
    "                    if Melanoma_cnt%50==0:\n",
    "                        print(' # '*20)\n",
    "                        print('{} images are saved in {}'.format(Melanoma_cnt, (savedir+'0_Melanoma/')))\n",
    "        \n",
    "                    \n",
    "        elif im_class==1:                            \n",
    "            for subdir, _, files in os.walk('data/ISIC-2017_Training_Data/'):\n",
    "                subdir=subdir.replace('\\\\','/')\n",
    "                subdir_split=subdir.split('/')\n",
    "                if str('superpixels') not in files:\n",
    "                    image_path=str(subdir+'/'+str(img)+'.jpg')\n",
    "                    image=plt.imread(image_path)\n",
    "                    plt.imsave((savedir+'1_Seborreic_ceratosis/'+str(img)+'.jpg'), image)\n",
    "                    \n",
    "                    Seborreic_ceratosis_cnt+=1\n",
    "                    if Seborreic_ceratosis_cnt%50==0:\n",
    "                        print(' # '*20)\n",
    "                        print('{} images are saved in {}'.format(Seborreic_ceratosis_cnt, (savedir+'1_Seborreic_ceratosis/')))\n",
    "        else:\n",
    "            for subdir, _, files in os.walk('data/ISIC-2017_Training_Data/'):\n",
    "                subdir=subdir.replace('\\\\','/')\n",
    "                subdir_split=subdir.split('/')\n",
    "                if str('superpixels') not in files:\n",
    "                    image_path=str(subdir+'/'+str(img)+'.jpg')\n",
    "                    image=plt.imread(image_path)\n",
    "                    plt.imsave((savedir+'2_Nevus/'+str(img)+'.jpg'), image)\n",
    "                    \n",
    "                    Nevus_cnt+=1\n",
    "                    if Nevus_cnt%50==0:\n",
    "                        print(' # '*20)\n",
    "                        print('{} images are saved in {}'.format(Nevus_cnt, (savedir+'2_Nevus/')))\n",
    "                              \n",
    "    with open(savedir+\"class_weight.txt\", \"w\") as text_file:\n",
    "        text_file.write(\"0_Melanoma: {}, 1_Seborreic_ceratosis:{}, 2_Nevus:{}\".format(Melanoma_cnt, Seborreic_ceratosis_cnt, Nevus_cnt))"
   ]
  },
  {
   "cell_type": "code",
   "execution_count": 46,
   "metadata": {
    "collapsed": false
   },
   "outputs": [
    {
     "name": "stdout",
     "output_type": "stream",
     "text": [
      " #  #  #  #  #  #  #  #  #  #  #  #  #  #  #  #  #  #  #  # \n",
      "50 images are saved in data/melanoma_preprocessed/2_Nevus/\n",
      " #  #  #  #  #  #  #  #  #  #  #  #  #  #  #  #  #  #  #  # \n",
      "100 images are saved in data/melanoma_preprocessed/2_Nevus/\n",
      " #  #  #  #  #  #  #  #  #  #  #  #  #  #  #  #  #  #  #  # \n",
      "50 images are saved in data/melanoma_preprocessed/0_Melanoma/\n",
      " #  #  #  #  #  #  #  #  #  #  #  #  #  #  #  #  #  #  #  # \n",
      "150 images are saved in data/melanoma_preprocessed/2_Nevus/\n",
      " #  #  #  #  #  #  #  #  #  #  #  #  #  #  #  #  #  #  #  # \n",
      "200 images are saved in data/melanoma_preprocessed/2_Nevus/\n",
      " #  #  #  #  #  #  #  #  #  #  #  #  #  #  #  #  #  #  #  # \n",
      "250 images are saved in data/melanoma_preprocessed/2_Nevus/\n",
      " #  #  #  #  #  #  #  #  #  #  #  #  #  #  #  #  #  #  #  # \n",
      "300 images are saved in data/melanoma_preprocessed/2_Nevus/\n",
      " #  #  #  #  #  #  #  #  #  #  #  #  #  #  #  #  #  #  #  # \n",
      "100 images are saved in data/melanoma_preprocessed/0_Melanoma/\n",
      " #  #  #  #  #  #  #  #  #  #  #  #  #  #  #  #  #  #  #  # \n",
      "350 images are saved in data/melanoma_preprocessed/2_Nevus/\n",
      " #  #  #  #  #  #  #  #  #  #  #  #  #  #  #  #  #  #  #  # \n",
      "400 images are saved in data/melanoma_preprocessed/2_Nevus/\n",
      " #  #  #  #  #  #  #  #  #  #  #  #  #  #  #  #  #  #  #  # \n",
      "450 images are saved in data/melanoma_preprocessed/2_Nevus/\n",
      " #  #  #  #  #  #  #  #  #  #  #  #  #  #  #  #  #  #  #  # \n",
      "500 images are saved in data/melanoma_preprocessed/2_Nevus/\n",
      " #  #  #  #  #  #  #  #  #  #  #  #  #  #  #  #  #  #  #  # \n",
      "550 images are saved in data/melanoma_preprocessed/2_Nevus/\n",
      " #  #  #  #  #  #  #  #  #  #  #  #  #  #  #  #  #  #  #  # \n",
      "150 images are saved in data/melanoma_preprocessed/0_Melanoma/\n",
      " #  #  #  #  #  #  #  #  #  #  #  #  #  #  #  #  #  #  #  # \n",
      "600 images are saved in data/melanoma_preprocessed/2_Nevus/\n",
      " #  #  #  #  #  #  #  #  #  #  #  #  #  #  #  #  #  #  #  # \n",
      "650 images are saved in data/melanoma_preprocessed/2_Nevus/\n",
      " #  #  #  #  #  #  #  #  #  #  #  #  #  #  #  #  #  #  #  # \n",
      "700 images are saved in data/melanoma_preprocessed/2_Nevus/\n",
      " #  #  #  #  #  #  #  #  #  #  #  #  #  #  #  #  #  #  #  # \n",
      "750 images are saved in data/melanoma_preprocessed/2_Nevus/\n",
      " #  #  #  #  #  #  #  #  #  #  #  #  #  #  #  #  #  #  #  # \n",
      "200 images are saved in data/melanoma_preprocessed/0_Melanoma/\n",
      " #  #  #  #  #  #  #  #  #  #  #  #  #  #  #  #  #  #  #  # \n",
      "800 images are saved in data/melanoma_preprocessed/2_Nevus/\n",
      " #  #  #  #  #  #  #  #  #  #  #  #  #  #  #  #  #  #  #  # \n",
      "850 images are saved in data/melanoma_preprocessed/2_Nevus/\n",
      " #  #  #  #  #  #  #  #  #  #  #  #  #  #  #  #  #  #  #  # \n",
      "900 images are saved in data/melanoma_preprocessed/2_Nevus/\n",
      " #  #  #  #  #  #  #  #  #  #  #  #  #  #  #  #  #  #  #  # \n",
      "950 images are saved in data/melanoma_preprocessed/2_Nevus/\n",
      " #  #  #  #  #  #  #  #  #  #  #  #  #  #  #  #  #  #  #  # \n",
      "50 images are saved in data/melanoma_preprocessed/1_Seborreic_ceratosis/\n",
      " #  #  #  #  #  #  #  #  #  #  #  #  #  #  #  #  #  #  #  # \n",
      "1000 images are saved in data/melanoma_preprocessed/2_Nevus/\n",
      " #  #  #  #  #  #  #  #  #  #  #  #  #  #  #  #  #  #  #  # \n",
      "1050 images are saved in data/melanoma_preprocessed/2_Nevus/\n",
      " #  #  #  #  #  #  #  #  #  #  #  #  #  #  #  #  #  #  #  # \n",
      "100 images are saved in data/melanoma_preprocessed/1_Seborreic_ceratosis/\n",
      " #  #  #  #  #  #  #  #  #  #  #  #  #  #  #  #  #  #  #  # \n",
      "1100 images are saved in data/melanoma_preprocessed/2_Nevus/\n",
      " #  #  #  #  #  #  #  #  #  #  #  #  #  #  #  #  #  #  #  # \n",
      "1150 images are saved in data/melanoma_preprocessed/2_Nevus/\n",
      " #  #  #  #  #  #  #  #  #  #  #  #  #  #  #  #  #  #  #  # \n",
      "250 images are saved in data/melanoma_preprocessed/0_Melanoma/\n",
      " #  #  #  #  #  #  #  #  #  #  #  #  #  #  #  #  #  #  #  # \n",
      "1200 images are saved in data/melanoma_preprocessed/2_Nevus/\n",
      " #  #  #  #  #  #  #  #  #  #  #  #  #  #  #  #  #  #  #  # \n",
      "150 images are saved in data/melanoma_preprocessed/1_Seborreic_ceratosis/\n",
      " #  #  #  #  #  #  #  #  #  #  #  #  #  #  #  #  #  #  #  # \n",
      "300 images are saved in data/melanoma_preprocessed/0_Melanoma/\n",
      " #  #  #  #  #  #  #  #  #  #  #  #  #  #  #  #  #  #  #  # \n",
      "1250 images are saved in data/melanoma_preprocessed/2_Nevus/\n",
      " #  #  #  #  #  #  #  #  #  #  #  #  #  #  #  #  #  #  #  # \n",
      "200 images are saved in data/melanoma_preprocessed/1_Seborreic_ceratosis/\n",
      " #  #  #  #  #  #  #  #  #  #  #  #  #  #  #  #  #  #  #  # \n",
      "1300 images are saved in data/melanoma_preprocessed/2_Nevus/\n",
      " #  #  #  #  #  #  #  #  #  #  #  #  #  #  #  #  #  #  #  # \n",
      "350 images are saved in data/melanoma_preprocessed/0_Melanoma/\n",
      " #  #  #  #  #  #  #  #  #  #  #  #  #  #  #  #  #  #  #  # \n",
      "1350 images are saved in data/melanoma_preprocessed/2_Nevus/\n",
      " #  #  #  #  #  #  #  #  #  #  #  #  #  #  #  #  #  #  #  # \n",
      "250 images are saved in data/melanoma_preprocessed/1_Seborreic_ceratosis/\n"
     ]
    }
   ],
   "source": [
    "images_preprocess()"
   ]
  },
  {
   "cell_type": "code",
   "execution_count": null,
   "metadata": {
    "collapsed": true
   },
   "outputs": [],
   "source": []
  }
 ],
 "metadata": {
  "anaconda-cloud": {},
  "kernelspec": {
   "display_name": "Python [default]",
   "language": "python",
   "name": "python2"
  },
  "language_info": {
   "codemirror_mode": {
    "name": "ipython",
    "version": 2
   },
   "file_extension": ".py",
   "mimetype": "text/x-python",
   "name": "python",
   "nbconvert_exporter": "python",
   "pygments_lexer": "ipython2",
   "version": "2.7.12"
  }
 },
 "nbformat": 4,
 "nbformat_minor": 1
}
